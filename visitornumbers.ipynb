{
 "cells": [
  {
   "cell_type": "code",
   "execution_count": null,
   "id": "70ac9189",
   "metadata": {},
   "outputs": [],
   "source": [
    "import pandas as pd\n",
    "import matplotlib.pyplot as plt\n",
    "import seaborn as sns\n",
    "import numpy as np"
   ]
  },
  {
   "cell_type": "code",
   "execution_count": null,
   "id": "7158b075",
   "metadata": {},
   "outputs": [],
   "source": [
    "redwood = pd.read_csv('./data/visitornumbers/redwood.csv')"
   ]
  },
  {
   "cell_type": "code",
   "execution_count": null,
   "id": "86c0c8eb",
   "metadata": {
    "scrolled": true
   },
   "outputs": [],
   "source": [
    "redwood.head(2)"
   ]
  },
  {
   "cell_type": "code",
   "execution_count": null,
   "id": "b4f8a470",
   "metadata": {},
   "outputs": [],
   "source": [
    "redwood.info()"
   ]
  },
  {
   "cell_type": "code",
   "execution_count": null,
   "id": "67f7e5bc",
   "metadata": {},
   "outputs": [],
   "source": [
    "redwood.loc[:, 'JAN'].mean()"
   ]
  },
  {
   "cell_type": "code",
   "execution_count": null,
   "id": "541d990e",
   "metadata": {},
   "outputs": [],
   "source": [
    "redwoodtotals = redwood.loc[:, ['JAN', 'FEB', 'MAR', 'APR', 'MAY', 'JUN', 'JUL', 'AUG', 'SEP', 'OCT', 'NOV', 'DEC']].mean()"
   ]
  },
  {
   "cell_type": "code",
   "execution_count": null,
   "id": "6511b708",
   "metadata": {},
   "outputs": [],
   "source": [
    "redwoodtotals"
   ]
  },
  {
   "cell_type": "code",
   "execution_count": null,
   "id": "055d9203",
   "metadata": {},
   "outputs": [],
   "source": [
    "craterlake = pd.read_csv('./data/visitornumbers/craterlake.csv')\n",
    "craterlake.head(2)"
   ]
  },
  {
   "cell_type": "code",
   "execution_count": null,
   "id": "93bb263a",
   "metadata": {},
   "outputs": [],
   "source": [
    "craterlake.info()"
   ]
  },
  {
   "cell_type": "code",
   "execution_count": null,
   "id": "bdaea975",
   "metadata": {},
   "outputs": [],
   "source": [
    "craterlaketotals = craterlake.loc[:, ['JAN', 'FEB', 'MAR', 'APR', 'MAY', 'JUN', 'JUL', 'AUG', 'SEP', 'OCT', 'NOV', 'DEC']].mean()\n",
    "craterlaketotals"
   ]
  },
  {
   "cell_type": "code",
   "execution_count": null,
   "id": "d7ad0c97",
   "metadata": {},
   "outputs": [],
   "source": []
  },
  {
   "cell_type": "code",
   "execution_count": null,
   "id": "d4e580cd",
   "metadata": {},
   "outputs": [],
   "source": [
    "goldengate = pd.read_csv('./data/visitornumbers/goldengate.csv')\n",
    "goldengate.head(2)"
   ]
  },
  {
   "cell_type": "code",
   "execution_count": null,
   "id": "27dd2d93",
   "metadata": {},
   "outputs": [],
   "source": [
    "goldengate.info()"
   ]
  },
  {
   "cell_type": "code",
   "execution_count": null,
   "id": "f8e86f70",
   "metadata": {},
   "outputs": [],
   "source": [
    "goldengatetotals = goldengate.loc[:, ['JAN', 'FEB', 'MAR', 'APR', 'MAY', 'JUN', 'JUL', 'AUG', 'SEP', 'OCT', 'NOV', 'DEC']].mean()"
   ]
  },
  {
   "cell_type": "code",
   "execution_count": null,
   "id": "879225d1",
   "metadata": {},
   "outputs": [],
   "source": [
    "goldengatetotals"
   ]
  },
  {
   "cell_type": "code",
   "execution_count": null,
   "id": "f447834e",
   "metadata": {},
   "outputs": [],
   "source": [
    "sequoia = pd.read_csv('./data/visitornumbers/sequoia.csv')\n",
    "sequoia.head(2)"
   ]
  },
  {
   "cell_type": "code",
   "execution_count": null,
   "id": "39141fb9",
   "metadata": {},
   "outputs": [],
   "source": [
    "sequoia.info()"
   ]
  },
  {
   "cell_type": "code",
   "execution_count": null,
   "id": "59430128",
   "metadata": {},
   "outputs": [],
   "source": [
    "sequoiatotals = sequoia.loc[:, ['JAN', 'FEB', 'MAR', 'APR', 'MAY', 'JUN', 'JUL', 'AUG', 'SEP', 'OCT', 'NOV', 'DEC']].mean()"
   ]
  },
  {
   "cell_type": "code",
   "execution_count": null,
   "id": "2733e2cb",
   "metadata": {},
   "outputs": [],
   "source": [
    "sequoiatotals"
   ]
  },
  {
   "cell_type": "code",
   "execution_count": null,
   "id": "4badd344",
   "metadata": {},
   "outputs": [],
   "source": [
    "yosemite = pd.read_csv('./data/visitornumbers/yosemite.csv')\n",
    "yosemite.head(2)"
   ]
  },
  {
   "cell_type": "code",
   "execution_count": null,
   "id": "d6800c62",
   "metadata": {},
   "outputs": [],
   "source": [
    "yosemite.info()"
   ]
  },
  {
   "cell_type": "code",
   "execution_count": null,
   "id": "58f853c5",
   "metadata": {},
   "outputs": [],
   "source": [
    "yosemitetotals = yosemite.loc[:, ['JAN', 'FEB', 'MAR', 'APR', 'MAY', 'JUN', 'JUL', 'AUG', 'SEP', 'OCT', 'NOV', 'DEC']].mean()"
   ]
  },
  {
   "cell_type": "code",
   "execution_count": null,
   "id": "7005607f",
   "metadata": {},
   "outputs": [],
   "source": [
    "yosemitetotals"
   ]
  },
  {
   "cell_type": "code",
   "execution_count": null,
   "id": "5df70f05",
   "metadata": {},
   "outputs": [],
   "source": []
  }
 ],
 "metadata": {
  "kernelspec": {
   "display_name": "Python 3 (ipykernel)",
   "language": "python",
   "name": "python3"
  },
  "language_info": {
   "codemirror_mode": {
    "name": "ipython",
    "version": 3
   },
   "file_extension": ".py",
   "mimetype": "text/x-python",
   "name": "python",
   "nbconvert_exporter": "python",
   "pygments_lexer": "ipython3",
   "version": "3.11.5"
  }
 },
 "nbformat": 4,
 "nbformat_minor": 5
}
