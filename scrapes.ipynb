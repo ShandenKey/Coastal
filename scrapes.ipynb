{
 "cells": [
  {
   "cell_type": "code",
   "execution_count": 1,
   "id": "021f4300",
   "metadata": {},
   "outputs": [],
   "source": [
    "import requests"
   ]
  },
  {
   "cell_type": "code",
   "execution_count": 8,
   "id": "aa4f4c02",
   "metadata": {},
   "outputs": [],
   "source": [
    "URL = 'https://calendar.powwows.com/events/categories/pow-wows/pow-wows-in-california/'\n",
    "\n",
    "response = requests.get(URL)"
   ]
  },
  {
   "cell_type": "code",
   "execution_count": 9,
   "id": "8fa0d607",
   "metadata": {},
   "outputs": [
    {
     "data": {
      "text/plain": [
       "requests.models.Response"
      ]
     },
     "execution_count": 9,
     "metadata": {},
     "output_type": "execute_result"
    }
   ],
   "source": [
    "type(response)"
   ]
  },
  {
   "cell_type": "code",
   "execution_count": 10,
   "id": "c2275096",
   "metadata": {},
   "outputs": [
    {
     "data": {
      "text/plain": [
       "403"
      ]
     },
     "execution_count": 10,
     "metadata": {},
     "output_type": "execute_result"
    }
   ],
   "source": [
    "response.status_code"
   ]
  },
  {
   "cell_type": "code",
   "execution_count": 5,
   "id": "b0dc6343",
   "metadata": {},
   "outputs": [],
   "source": [
    "from bs4 import BeautifulSoup as BS"
   ]
  },
  {
   "cell_type": "code",
   "execution_count": 6,
   "id": "cd861160",
   "metadata": {},
   "outputs": [],
   "source": [
    "soup = BS(response.text)"
   ]
  },
  {
   "cell_type": "code",
   "execution_count": 7,
   "id": "68b74478",
   "metadata": {},
   "outputs": [
    {
     "name": "stdout",
     "output_type": "stream",
     "text": [
      "<!DOCTYPE html>\n",
      "<html lang=\"en\" xmlns=\"http://www.w3.org/1999/xhtml\">\n",
      " <head>\n",
      "  <link href=\"https://cdn.sucuri.net/sucuri-firewall-block.css\" rel=\"stylesheet\"/>\n",
      "  <section class=\"center clearfix\">\n",
      "   <meta content=\"width=device-width, initial-scale=1.0\" name=\"viewport\"/>\n",
      "   <title>\n",
      "    Sucuri WebSite Firewall - Access Denied\n",
      "   </title>\n",
      "   <link href=\"https://fonts.googleapis.com/css?family=Open+Sans:400,300,600,700\" rel=\"stylesheet\" type=\"text/css\"/>\n",
      "  </section>\n",
      " </head>\n",
      " <body>\n",
      "  <div id=\"main-container\">\n",
      "   <header class=\"app-header clearfix\">\n",
      "    <div class=\"wrap\">\n",
      "     <a class=\"logo\" href=\"https://www.sucuri.net/?utm_source=firewall_block\">\n",
      "     </a>\n",
      "     <span class=\"logo-neartext\">\n",
      "      Website Firewall\n",
      "     </span>\n",
      "     <a class=\"site-link\" href=\"https://sucuri.net/?utm_source=firewall_block\">\n",
      "      Back to sucuri.net\n",
      "     </a>\n",
      "    </div>\n",
      "   </header>\n",
      "   <section class=\"app-content access-denied clearfix\">\n",
      "    <div class=\"box center width-max-940\">\n",
      "     <h1 class=\"brand-font font-size-xtra no-margin\">\n",
      "      <i class=\"icon-circle-red\">\n",
      "      </i>\n",
      "      Access Denied - Sucuri Website Firewall\n",
      "     </h1>\n",
      "     <p class=\"medium-text code-snippet\">\n",
      "      If you are the site owner (or you manage this site), please whitelist your IP or if you think this block is an error please\n",
      "      <a class=\"color-green underline\" href=\"https://support.sucuri.net/?utm_source=firewall_block\">\n",
      "       open a support ticket\n",
      "      </a>\n",
      "      and make sure to include the block details (displayed in the box below), so we can assist you in troubleshooting the issue.\n",
      "     </p>\n",
      "     <h2>\n",
      "      Block details:\n",
      "     </h2>\n",
      "     <table class=\"property-table overflow-break-all line-height-16\">\n",
      "      <tr>\n",
      "       <td>\n",
      "        Your IP:\n",
      "       </td>\n",
      "       <td>\n",
      "        <span>\n",
      "         67.177.161.90\n",
      "        </span>\n",
      "       </td>\n",
      "      </tr>\n",
      "      <tr>\n",
      "       <td>\n",
      "        URL:\n",
      "       </td>\n",
      "       <td>\n",
      "        <span>\n",
      "         www.seecalifornia.com/flowers-gardens/california-flower-shows-festivals.html\n",
      "        </span>\n",
      "       </td>\n",
      "      </tr>\n",
      "      <tr>\n",
      "       <td>\n",
      "        Your Browser:\n",
      "       </td>\n",
      "       <td>\n",
      "        <span>\n",
      "         python-requests/2.31.0\n",
      "        </span>\n",
      "       </td>\n",
      "      </tr>\n",
      "      <tr>\n",
      "       <td>\n",
      "        Block ID:\n",
      "       </td>\n",
      "       <td>\n",
      "        <span>\n",
      "         BNP005\n",
      "        </span>\n",
      "       </td>\n",
      "      </tr>\n",
      "      <tr>\n",
      "       <td>\n",
      "        Block reason:\n",
      "       </td>\n",
      "       <td>\n",
      "        <span>\n",
      "         Bad bot access attempt.\n",
      "        </span>\n",
      "       </td>\n",
      "      </tr>\n",
      "      <tr>\n",
      "       <td>\n",
      "        Time:\n",
      "       </td>\n",
      "       <td>\n",
      "        <span>\n",
      "         2023-12-13 12:58:39\n",
      "        </span>\n",
      "       </td>\n",
      "      </tr>\n",
      "      <tr>\n",
      "       <td>\n",
      "        Server ID:\n",
      "       </td>\n",
      "       <td>\n",
      "        <span>\n",
      "         14003\n",
      "        </span>\n",
      "       </td>\n",
      "      </tr>\n",
      "     </table>\n",
      "    </div>\n",
      "   </section>\n",
      "   <footer>\n",
      "    <span>\n",
      "     © 2023 Sucuri Inc. All rights reserved.\n",
      "    </span>\n",
      "    <span id=\"privacy-policy\">\n",
      "     <a href=\"https://sucuri.net/privacy-policy?utm_source=firewall_block\" rel=\"nofollow noopener\" target=\"_blank\">\n",
      "      Privacy\n",
      "     </a>\n",
      "    </span>\n",
      "   </footer>\n",
      "  </div>\n",
      " </body>\n",
      "</html>\n",
      "\n"
     ]
    }
   ],
   "source": [
    "print(soup.prettify())"
   ]
  },
  {
   "cell_type": "code",
   "execution_count": null,
   "id": "0ab47c8e",
   "metadata": {},
   "outputs": [],
   "source": []
  },
  {
   "cell_type": "code",
   "execution_count": null,
   "id": "3b07a831",
   "metadata": {},
   "outputs": [],
   "source": []
  },
  {
   "cell_type": "code",
   "execution_count": null,
   "id": "d4de3b5f",
   "metadata": {},
   "outputs": [],
   "source": []
  },
  {
   "cell_type": "code",
   "execution_count": null,
   "id": "926b1a80",
   "metadata": {},
   "outputs": [],
   "source": []
  },
  {
   "cell_type": "code",
   "execution_count": null,
   "id": "e8933b81",
   "metadata": {},
   "outputs": [],
   "source": []
  },
  {
   "cell_type": "code",
   "execution_count": null,
   "id": "78703f70",
   "metadata": {},
   "outputs": [],
   "source": []
  },
  {
   "cell_type": "code",
   "execution_count": null,
   "id": "d28b0610",
   "metadata": {},
   "outputs": [],
   "source": []
  }
 ],
 "metadata": {
  "kernelspec": {
   "display_name": "Python 3 (ipykernel)",
   "language": "python",
   "name": "python3"
  },
  "language_info": {
   "codemirror_mode": {
    "name": "ipython",
    "version": 3
   },
   "file_extension": ".py",
   "mimetype": "text/x-python",
   "name": "python",
   "nbconvert_exporter": "python",
   "pygments_lexer": "ipython3",
   "version": "3.11.5"
  }
 },
 "nbformat": 4,
 "nbformat_minor": 5
}
