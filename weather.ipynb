{
 "cells": [
  {
   "cell_type": "code",
   "execution_count": null,
   "id": "957dffcf",
   "metadata": {},
   "outputs": [],
   "source": [
    "import pandas as pd\n",
    "import matplotlib.pyplot as plt\n",
    "import seaborn as sns\n",
    "import numpy as np"
   ]
  },
  {
   "cell_type": "code",
   "execution_count": null,
   "id": "43a8415a",
   "metadata": {
    "scrolled": true
   },
   "outputs": [],
   "source": [
    "bigweather = pd.read_csv('./data/weather/noaaWeather.csv')\n",
    "bigweather"
   ]
  },
  {
   "cell_type": "code",
   "execution_count": null,
   "id": "f149b7ef",
   "metadata": {},
   "outputs": [],
   "source": [
    "crescentcity = bigweather[bigweather['NAME'].str.contains(\"CRESCENT CITY, CA US\")]"
   ]
  },
  {
   "cell_type": "code",
   "execution_count": null,
   "id": "2eade385",
   "metadata": {},
   "outputs": [],
   "source": [
    "sacramento = bigweather[bigweather['NAME'].str.contains(\"SACRAMENTO EXECUTIVE AIRPORT, CA US\")]"
   ]
  },
  {
   "cell_type": "code",
   "execution_count": null,
   "id": "ff15e0e3",
   "metadata": {},
   "outputs": [],
   "source": [
    "fresno = bigweather[bigweather['NAME'].str.contains(\"FRESNO YOSEMITE INTERNATIONAL, CA US\")]"
   ]
  },
  {
   "cell_type": "code",
   "execution_count": null,
   "id": "9dde91dc",
   "metadata": {},
   "outputs": [],
   "source": [
    "humbolt = bigweather[bigweather['NAME'].str.contains(\"WOODLEY\")]"
   ]
  },
  {
   "cell_type": "code",
   "execution_count": null,
   "id": "f627875c",
   "metadata": {},
   "outputs": [],
   "source": [
    "yosemite = bigweather[bigweather['NAME'].str.contains(\"YOSEMITE PARK HEADQUARTERS, CA US\")]"
   ]
  },
  {
   "cell_type": "code",
   "execution_count": null,
   "id": "a37c3bb8",
   "metadata": {},
   "outputs": [],
   "source": [
    "shasta = bigweather[bigweather['STATION'].str.contains(\"24215\")]"
   ]
  },
  {
   "cell_type": "code",
   "execution_count": null,
   "id": "4360acbf",
   "metadata": {},
   "outputs": [],
   "source": [
    "josephine = bigweather[bigweather['NAME'].str.contains(\"SEXTON\")]"
   ]
  },
  {
   "cell_type": "code",
   "execution_count": null,
   "id": "b59a51f0",
   "metadata": {},
   "outputs": [],
   "source": [
    "klamath = bigweather[bigweather['NAME'].str.contains(\"KLAMATH FALLS INTERNATIONAL AIRPORT, OR US\")]"
   ]
  },
  {
   "cell_type": "code",
   "execution_count": null,
   "id": "d812aeda",
   "metadata": {},
   "outputs": [],
   "source": [
    "sanfran = bigweather[bigweather['NAME'].str.contains(\"SAN FRANCISCO DOWNTOWN, CA US\")]"
   ]
  },
  {
   "cell_type": "code",
   "execution_count": null,
   "id": "dfa368e9",
   "metadata": {},
   "outputs": [],
   "source": [
    "sonoma = bigweather[bigweather['NAME'].str.contains(\"SANTA ROSA SONOMA CO AIRPORT, CA US\")]"
   ]
  },
  {
   "cell_type": "code",
   "execution_count": null,
   "id": "b4705d9e",
   "metadata": {},
   "outputs": [],
   "source": [
    "mendocino = bigweather[bigweather['NAME'].str.contains(\"UKIAH MUNICIPAL AIRPORT, CA US\")]"
   ]
  },
  {
   "cell_type": "code",
   "execution_count": null,
   "id": "234cfe4d",
   "metadata": {},
   "outputs": [],
   "source": []
  }
 ],
 "metadata": {
  "kernelspec": {
   "display_name": "Python 3 (ipykernel)",
   "language": "python",
   "name": "python3"
  },
  "language_info": {
   "codemirror_mode": {
    "name": "ipython",
    "version": 3
   },
   "file_extension": ".py",
   "mimetype": "text/x-python",
   "name": "python",
   "nbconvert_exporter": "python",
   "pygments_lexer": "ipython3",
   "version": "3.11.5"
  }
 },
 "nbformat": 4,
 "nbformat_minor": 5
}
