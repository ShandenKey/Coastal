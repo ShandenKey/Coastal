{
 "cells": [
  {
   "cell_type": "code",
   "execution_count": null,
   "id": "957dffcf",
   "metadata": {},
   "outputs": [],
   "source": [
    "import pandas as pd\n",
    "import matplotlib.pyplot as plt\n",
    "import seaborn as sns\n",
    "import numpy as np"
   ]
  },
  {
   "cell_type": "code",
   "execution_count": null,
   "id": "43a8415a",
   "metadata": {
    "scrolled": true
   },
   "outputs": [],
   "source": [
    "bigweather = pd.read_csv('./data/weather/noaaWeather.csv')\n",
    "bigweather"
   ]
  },
  {
   "cell_type": "code",
   "execution_count": null,
   "id": "f149b7ef",
   "metadata": {},
   "outputs": [],
   "source": [
    "crescentcity = bigweather[bigweather['NAME'].str.contains(\"CRESCENT CITY, CA US\")]"
   ]
  },
  {
   "cell_type": "code",
   "execution_count": null,
   "id": "c661db41",
   "metadata": {},
   "outputs": [],
   "source": [
    "crescentcity = crescentcity.reset_index(drop=True)\n",
    "crescentcity"
   ]
  },
  {
   "cell_type": "code",
   "execution_count": null,
   "id": "6f533eef",
   "metadata": {},
   "outputs": [],
   "source": [
    "crescentcity.to_csv('crescentcity.csv')"
   ]
  },
  {
   "cell_type": "code",
   "execution_count": null,
   "id": "2eade385",
   "metadata": {},
   "outputs": [],
   "source": [
    "sacramento = bigweather[bigweather['NAME'].str.contains(\"SACRAMENTO EXECUTIVE AIRPORT, CA US\")]"
   ]
  },
  {
   "cell_type": "code",
   "execution_count": null,
   "id": "51f1bf77",
   "metadata": {
    "scrolled": true
   },
   "outputs": [],
   "source": [
    "sacramento = sacramento.reset_index(drop=True)\n",
    "sacramento"
   ]
  },
  {
   "cell_type": "code",
   "execution_count": null,
   "id": "bafe2973",
   "metadata": {},
   "outputs": [],
   "source": [
    "sacramento.to_csv('sacramento.csv')"
   ]
  },
  {
   "cell_type": "code",
   "execution_count": null,
   "id": "ff15e0e3",
   "metadata": {},
   "outputs": [],
   "source": [
    "fresno = bigweather[bigweather['NAME'].str.contains(\"FRESNO YOSEMITE INTERNATIONAL, CA US\")]"
   ]
  },
  {
   "cell_type": "code",
   "execution_count": null,
   "id": "0249db44",
   "metadata": {},
   "outputs": [],
   "source": [
    "fresno = fresno.reset_index(drop=True)\n",
    "fresno"
   ]
  },
  {
   "cell_type": "code",
   "execution_count": null,
   "id": "5bad695f",
   "metadata": {},
   "outputs": [],
   "source": [
    "fresno.to_csv('fresno.csv')"
   ]
  },
  {
   "cell_type": "code",
   "execution_count": null,
   "id": "9dde91dc",
   "metadata": {},
   "outputs": [],
   "source": [
    "humbolt = bigweather[bigweather['NAME'].str.contains(\"WOODLEY\")]"
   ]
  },
  {
   "cell_type": "code",
   "execution_count": null,
   "id": "deaae14f",
   "metadata": {},
   "outputs": [],
   "source": [
    "humbolt = sacramento.reset_index(drop=True)\n",
    "humbolt"
   ]
  },
  {
   "cell_type": "code",
   "execution_count": null,
   "id": "e64882dd",
   "metadata": {},
   "outputs": [],
   "source": [
    "humbolt.to_csv('humbolt.csv')"
   ]
  },
  {
   "cell_type": "code",
   "execution_count": null,
   "id": "f627875c",
   "metadata": {},
   "outputs": [],
   "source": [
    "yosemite = bigweather[bigweather['NAME'].str.contains(\"YOSEMITE PARK HEADQUARTERS, CA US\")]"
   ]
  },
  {
   "cell_type": "code",
   "execution_count": null,
   "id": "438dca69",
   "metadata": {},
   "outputs": [],
   "source": [
    "yosemite = yosemite.reset_index(drop=True)\n",
    "yosemite"
   ]
  },
  {
   "cell_type": "code",
   "execution_count": null,
   "id": "756d2ae7",
   "metadata": {},
   "outputs": [],
   "source": [
    "yosemite.to_csv('yosemite.csv')"
   ]
  },
  {
   "cell_type": "code",
   "execution_count": null,
   "id": "a37c3bb8",
   "metadata": {},
   "outputs": [],
   "source": [
    "shasta = bigweather[bigweather['STATION'].str.contains(\"24215\")]"
   ]
  },
  {
   "cell_type": "code",
   "execution_count": null,
   "id": "196ff91e",
   "metadata": {},
   "outputs": [],
   "source": [
    "shasta = shasta.reset_index(drop=True)\n",
    "shasta"
   ]
  },
  {
   "cell_type": "code",
   "execution_count": null,
   "id": "41bb9ab5",
   "metadata": {},
   "outputs": [],
   "source": [
    "shasta.to_csv('shasta.csv')"
   ]
  },
  {
   "cell_type": "code",
   "execution_count": null,
   "id": "4360acbf",
   "metadata": {},
   "outputs": [],
   "source": [
    "josephine = bigweather[bigweather['NAME'].str.contains(\"SEXTON\")]"
   ]
  },
  {
   "cell_type": "code",
   "execution_count": null,
   "id": "4c7abdb4",
   "metadata": {},
   "outputs": [],
   "source": [
    "josephine = josephine.reset_index(drop=True)\n",
    "josephine"
   ]
  },
  {
   "cell_type": "code",
   "execution_count": null,
   "id": "7e092ac4",
   "metadata": {},
   "outputs": [],
   "source": [
    "josephine.to_csv('josephine.csv')"
   ]
  },
  {
   "cell_type": "code",
   "execution_count": null,
   "id": "b59a51f0",
   "metadata": {},
   "outputs": [],
   "source": [
    "klamath = bigweather[bigweather['NAME'].str.contains(\"KLAMATH FALLS INTERNATIONAL AIRPORT, OR US\")]"
   ]
  },
  {
   "cell_type": "code",
   "execution_count": null,
   "id": "06cfb6f8",
   "metadata": {},
   "outputs": [],
   "source": [
    "klamath = klamath.reset_index(drop=True)\n",
    "klamath"
   ]
  },
  {
   "cell_type": "code",
   "execution_count": null,
   "id": "616db38a",
   "metadata": {},
   "outputs": [],
   "source": [
    "klamath.to_csv('klamath.csv')"
   ]
  },
  {
   "cell_type": "code",
   "execution_count": null,
   "id": "d812aeda",
   "metadata": {},
   "outputs": [],
   "source": [
    "sanfran = bigweather[bigweather['NAME'].str.contains(\"SAN FRANCISCO DOWNTOWN, CA US\")]"
   ]
  },
  {
   "cell_type": "code",
   "execution_count": null,
   "id": "b6b155e4",
   "metadata": {},
   "outputs": [],
   "source": [
    "sanfran = sanfran.reset_index(drop=True)\n",
    "sanfran"
   ]
  },
  {
   "cell_type": "code",
   "execution_count": null,
   "id": "47825fa8",
   "metadata": {},
   "outputs": [],
   "source": [
    "sanfran.to_csv('sanfran.csv')"
   ]
  },
  {
   "cell_type": "code",
   "execution_count": null,
   "id": "dfa368e9",
   "metadata": {},
   "outputs": [],
   "source": [
    "sonoma = bigweather[bigweather['NAME'].str.contains(\"SANTA ROSA SONOMA CO AIRPORT, CA US\")]"
   ]
  },
  {
   "cell_type": "code",
   "execution_count": null,
   "id": "5e000f0f",
   "metadata": {},
   "outputs": [],
   "source": [
    "sonoma = sonoma.reset_index(drop=True)\n",
    "sonoma"
   ]
  },
  {
   "cell_type": "code",
   "execution_count": null,
   "id": "4a399c76",
   "metadata": {},
   "outputs": [],
   "source": [
    "sonoma.to_csv('sonoma.csv')"
   ]
  },
  {
   "cell_type": "code",
   "execution_count": null,
   "id": "b4705d9e",
   "metadata": {},
   "outputs": [],
   "source": [
    "mendocino = bigweather[bigweather['NAME'].str.contains(\"UKIAH MUNICIPAL AIRPORT, CA US\")]"
   ]
  },
  {
   "cell_type": "code",
   "execution_count": null,
   "id": "234cfe4d",
   "metadata": {},
   "outputs": [],
   "source": [
    "mendocino = mendocino.reset_index(drop=True)\n",
    "mendocino"
   ]
  },
  {
   "cell_type": "code",
   "execution_count": null,
   "id": "73f1398d",
   "metadata": {},
   "outputs": [],
   "source": [
    "mendocino.to_csv('mendocino.csv')"
   ]
  },
  {
   "cell_type": "code",
   "execution_count": null,
   "id": "82c4931f",
   "metadata": {},
   "outputs": [],
   "source": []
  }
 ],
 "metadata": {
  "kernelspec": {
   "display_name": "Python 3 (ipykernel)",
   "language": "python",
   "name": "python3"
  },
  "language_info": {
   "codemirror_mode": {
    "name": "ipython",
    "version": 3
   },
   "file_extension": ".py",
   "mimetype": "text/x-python",
   "name": "python",
   "nbconvert_exporter": "python",
   "pygments_lexer": "ipython3",
   "version": "3.11.5"
  }
 },
 "nbformat": 4,
 "nbformat_minor": 5
}
