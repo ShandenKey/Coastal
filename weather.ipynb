{
 "cells": [
  {
   "cell_type": "code",
   "execution_count": null,
   "id": "957dffcf",
   "metadata": {},
   "outputs": [],
   "source": [
    "import pandas as pd\n",
    "import matplotlib.pyplot as plt\n",
    "import seaborn as sns\n",
    "import numpy as np"
   ]
  },
  {
   "cell_type": "code",
   "execution_count": null,
   "id": "a7c70e64",
   "metadata": {},
   "outputs": [],
   "source": [
    "crescentcity = pd.read_csv('./data/weather/crescentcity.csv')"
   ]
  },
  {
   "cell_type": "code",
   "execution_count": null,
   "id": "c8dad8ae",
   "metadata": {},
   "outputs": [],
   "source": [
    "crescentcity.columns.values.tolist()"
   ]
  },
  {
   "cell_type": "code",
   "execution_count": null,
   "id": "c6bb036d",
   "metadata": {},
   "outputs": [],
   "source": [
    "crescentcity.info()"
   ]
  },
  {
   "cell_type": "code",
   "execution_count": null,
   "id": "65d279ad",
   "metadata": {},
   "outputs": [],
   "source": [
    "crescityweat = crescentcity[['DailyAverageDewPointTemperature',\n",
    " 'DailyAverageDryBulbTemperature',\n",
    " 'DailyAverageRelativeHumidity',\n",
    " 'DailyAverageSeaLevelPressure',\n",
    " 'DailyAverageStationPressure',\n",
    " 'DailyAverageWetBulbTemperature',\n",
    " 'DailyAverageWindSpeed',\n",
    " 'DailyCoolingDegreeDays',\n",
    " 'DailyDepartureFromNormalAverageTemperature',\n",
    " 'DailyHeatingDegreeDays',\n",
    " 'DailyMaximumDryBulbTemperature',\n",
    " 'DailyMinimumDryBulbTemperature',\n",
    " 'DailyPeakWindDirection',\n",
    " 'DailyPeakWindSpeed',\n",
    " 'DailyPrecipitation',\n",
    " 'DailySnowDepth',\n",
    " 'DailySnowfall',\n",
    " 'DailySustainedWindDirection',\n",
    " 'DailySustainedWindSpeed',\n",
    " 'DailyWeather']].copy()\n",
    "crescityweat"
   ]
  },
  {
   "cell_type": "code",
   "execution_count": null,
   "id": "43a8415a",
   "metadata": {},
   "outputs": [],
   "source": [
    "bigweather = pd.read_csv('./data/weather/noaaWeather.csv')\n",
    "bigweather"
   ]
  },
  {
   "cell_type": "code",
   "execution_count": null,
   "id": "f149b7ef",
   "metadata": {},
   "outputs": [],
   "source": [
    "crescentcity = bigweather[bigweather['NAME'].str.contains(\"CRESCENT CITY, CA US\")]"
   ]
  },
  {
   "cell_type": "code",
   "execution_count": null,
   "id": "2eade385",
   "metadata": {},
   "outputs": [],
   "source": [
    "sacramento = bigweather[bigweather['NAME'].str.contains(\"SACRAMENTO EXECUTIVE AIRPORT, CA US\")]"
   ]
  },
  {
   "cell_type": "code",
   "execution_count": null,
   "id": "ff15e0e3",
   "metadata": {},
   "outputs": [],
   "source": [
    "fresno = bigweather[bigweather['NAME'].str.contains(\"FRESNO YOSEMITE INTERNATIONAL, CA US\")]"
   ]
  },
  {
   "cell_type": "code",
   "execution_count": null,
   "id": "9dde91dc",
   "metadata": {},
   "outputs": [],
   "source": [
    "humbolt = bigweather[bigweather['NAME'].str.contains(\"WOODLEY\")]"
   ]
  },
  {
   "cell_type": "code",
   "execution_count": null,
   "id": "47454182",
   "metadata": {},
   "outputs": [],
   "source": [
    "bigweather[bigweather['NAME'].str.contains(\"CRESCENT CITY, CA US\")]"
   ]
  },
  {
   "cell_type": "code",
   "execution_count": null,
   "id": "f271b74a",
   "metadata": {},
   "outputs": [],
   "source": [
    "bigweather[bigweather['NAME'].str.contains(\"CRESCENT CITY, CA US\")]"
   ]
  },
  {
   "cell_type": "code",
   "execution_count": null,
   "id": "bcad34dd",
   "metadata": {},
   "outputs": [],
   "source": [
    "bigweather[bigweather['NAME'].str.contains(\"CRESCENT CITY, CA US\")]"
   ]
  },
  {
   "cell_type": "code",
   "execution_count": null,
   "id": "3ccf8684",
   "metadata": {},
   "outputs": [],
   "source": [
    "bigweather[bigweather['NAME'].str.contains(\"CRESCENT CITY, CA US\")]"
   ]
  },
  {
   "cell_type": "code",
   "execution_count": null,
   "id": "13b84b1a",
   "metadata": {},
   "outputs": [],
   "source": [
    "bigweather[bigweather['NAME'].str.contains(\"CRESCENT CITY, CA US\")]"
   ]
  },
  {
   "cell_type": "code",
   "execution_count": null,
   "id": "740ba5e2",
   "metadata": {},
   "outputs": [],
   "source": [
    "bigweather[bigweather['NAME'].str.contains(\"CRESCENT CITY, CA US\")]"
   ]
  },
  {
   "cell_type": "code",
   "execution_count": null,
   "id": "a37c3bb8",
   "metadata": {},
   "outputs": [],
   "source": []
  }
 ],
 "metadata": {
  "kernelspec": {
   "display_name": "Python 3 (ipykernel)",
   "language": "python",
   "name": "python3"
  },
  "language_info": {
   "codemirror_mode": {
    "name": "ipython",
    "version": 3
   },
   "file_extension": ".py",
   "mimetype": "text/x-python",
   "name": "python",
   "nbconvert_exporter": "python",
   "pygments_lexer": "ipython3",
   "version": "3.11.5"
  }
 },
 "nbformat": 4,
 "nbformat_minor": 5
}
